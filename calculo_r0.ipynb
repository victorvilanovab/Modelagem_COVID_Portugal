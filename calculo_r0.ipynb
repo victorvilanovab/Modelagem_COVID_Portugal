{
 "cells": [
  {
   "cell_type": "code",
   "execution_count": 63,
   "metadata": {},
   "outputs": [],
   "source": [
    "%display typeset"
   ]
  },
  {
   "cell_type": "code",
   "execution_count": 64,
   "metadata": {},
   "outputs": [
    {
     "data": {
      "text/html": [
       "<html><script type=\"math/tex; mode=display\">\\newcommand{\\Bold}[1]{\\mathbf{#1}}\\left(S, E, I, A, M, R, \\rho, \\beta, \\gamma, \\chi, \\alpha, \\theta, \\delta, \\mu, N\\right)</script></html>"
      ],
      "text/plain": [
       "(S, E, I, A, M, R, rho, beta, gamma, chi, alpha, theta, delta, mu, N)"
      ]
     },
     "execution_count": 64,
     "metadata": {},
     "output_type": "execute_result"
    }
   ],
   "source": [
    "var('S, E, I, A, M, R, rho, beta, gamma, chi, alpha, theta,delta,mu, N')"
   ]
  },
  {
   "cell_type": "code",
   "execution_count": 65,
   "metadata": {},
   "outputs": [],
   "source": [
    "# Para nossa análise podemos desacoplar os recuperados e mortos pois não participam da nossa dinâmica"
   ]
  },
  {
   "cell_type": "code",
   "execution_count": 66,
   "metadata": {},
   "outputs": [],
   "source": [
    "dsdt = -beta*(1-chi)*S*I + mu*R # dS/dt\n",
    "dedt = beta*(1-chi)*S*I - (theta)*E #dE/dt\n",
    "didt =  (1-alpha)*theta*E - gamma*I - rho*I #dI/dt\n",
    "dadt =  alpha*theta*E - delta*A #dA/dt\n",
    "drdt = rho*I + delta*A - mu*R #dR/dt"
   ]
  },
  {
   "cell_type": "markdown",
   "metadata": {},
   "source": [
    "# Equilíbrios"
   ]
  },
  {
   "cell_type": "code",
   "execution_count": 67,
   "metadata": {},
   "outputs": [],
   "source": [
    "# Equilíbrio livre de doença:"
   ]
  },
  {
   "cell_type": "code",
   "execution_count": 68,
   "metadata": {},
   "outputs": [
    {
     "data": {
      "text/html": [
       "<html><script type=\"math/tex; mode=display\">\\newcommand{\\Bold}[1]{\\mathbf{#1}}\\left[\\left[S = r_{4}, E = 0, I = 0, A = 0, R = 0\\right]\\right]</script></html>"
      ],
      "text/plain": [
       "[[S == r4, E == 0, I == 0, A == 0, R == 0]]"
      ]
     },
     "execution_count": 68,
     "metadata": {},
     "output_type": "execute_result"
    }
   ],
   "source": [
    "solve([dsdt,dedt,didt,dadt,drdt],[S,E,I,A,R])"
   ]
  },
  {
   "cell_type": "markdown",
   "metadata": {},
   "source": [
    "# Matriz Jacobiana"
   ]
  },
  {
   "cell_type": "code",
   "execution_count": 69,
   "metadata": {},
   "outputs": [
    {
     "data": {
      "text/html": [
       "<html><script type=\"math/tex; mode=display\">\\newcommand{\\Bold}[1]{\\mathbf{#1}}\\left(\\begin{array}{rrrrr}\n",
       "I \\beta {\\left(\\chi - 1\\right)} & 0 & S \\beta {\\left(\\chi - 1\\right)} & 0 & \\mu \\\\\n",
       "-I \\beta {\\left(\\chi - 1\\right)} & -\\theta & -S \\beta {\\left(\\chi - 1\\right)} & 0 & 0 \\\\\n",
       "0 & -{\\left(\\alpha - 1\\right)} \\theta & -\\gamma - \\rho & 0 & 0 \\\\\n",
       "0 & \\alpha \\theta & 0 & -\\delta & 0 \\\\\n",
       "0 & 0 & \\rho & \\delta & -\\mu\n",
       "\\end{array}\\right)</script></html>"
      ],
      "text/plain": [
       "[  I*beta*(chi - 1)                  0   S*beta*(chi - 1)                  0                 mu]\n",
       "[ -I*beta*(chi - 1)             -theta  -S*beta*(chi - 1)                  0                  0]\n",
       "[                 0 -(alpha - 1)*theta       -gamma - rho                  0                  0]\n",
       "[                 0        alpha*theta                  0             -delta                  0]\n",
       "[                 0                  0                rho              delta                -mu]"
      ]
     },
     "execution_count": 69,
     "metadata": {},
     "output_type": "execute_result"
    }
   ],
   "source": [
    "jack = jacobian([dsdt,dedt,didt,dadt,drdt],[S,E,I,A,R])\n",
    "jack"
   ]
  },
  {
   "cell_type": "code",
   "execution_count": 70,
   "metadata": {},
   "outputs": [
    {
     "data": {
      "text/html": [
       "<html><script type=\"math/tex; mode=display\">\\newcommand{\\Bold}[1]{\\mathbf{#1}}x^{5} + \\left(-I \\beta \\chi + I \\beta + \\delta + \\gamma + \\mu + \\rho + \\theta\\right) x^{4} + \\left(-S \\alpha \\beta \\chi \\theta - I \\beta \\chi \\delta - I \\beta \\chi \\gamma - I \\beta \\chi \\mu - I \\beta \\chi \\rho + S \\alpha \\beta \\theta - I \\beta \\chi \\theta + S \\beta \\chi \\theta + I \\beta \\delta + I \\beta \\gamma + I \\beta \\mu + I \\beta \\rho + I \\beta \\theta - S \\beta \\theta + \\delta \\gamma + \\delta \\mu + \\gamma \\mu + \\delta \\rho + \\mu \\rho + \\delta \\theta + \\gamma \\theta + \\mu \\theta + \\rho \\theta\\right) x^{3} + \\left(-S \\alpha \\beta \\chi \\delta \\theta - S \\alpha \\beta \\chi \\mu \\theta - I \\beta \\chi \\delta \\gamma - I \\beta \\chi \\delta \\mu - I \\beta \\chi \\gamma \\mu - I \\beta \\chi \\delta \\rho - I \\beta \\chi \\mu \\rho + S \\alpha \\beta \\delta \\theta - I \\beta \\chi \\delta \\theta + S \\beta \\chi \\delta \\theta - I \\beta \\chi \\gamma \\theta + S \\alpha \\beta \\mu \\theta - I \\beta \\chi \\mu \\theta + S \\beta \\chi \\mu \\theta - I \\beta \\chi \\rho \\theta + I \\beta \\delta \\gamma + I \\beta \\delta \\mu + I \\beta \\gamma \\mu + I \\beta \\delta \\rho + I \\beta \\mu \\rho + I \\beta \\delta \\theta - S \\beta \\delta \\theta + I \\beta \\gamma \\theta + I \\beta \\mu \\theta - S \\beta \\mu \\theta + I \\beta \\rho \\theta + \\delta \\gamma \\mu + \\delta \\mu \\rho + \\delta \\gamma \\theta + \\delta \\mu \\theta + \\gamma \\mu \\theta + \\delta \\rho \\theta + \\mu \\rho \\theta\\right) x^{2} + \\left(I \\alpha \\beta \\chi \\delta \\mu \\theta - S \\alpha \\beta \\chi \\delta \\mu \\theta - I \\alpha \\beta \\chi \\mu \\rho \\theta - I \\beta \\chi \\delta \\gamma \\mu - I \\beta \\chi \\delta \\mu \\rho - I \\beta \\chi \\delta \\gamma \\theta - I \\alpha \\beta \\delta \\mu \\theta + S \\alpha \\beta \\delta \\mu \\theta - I \\beta \\chi \\delta \\mu \\theta + S \\beta \\chi \\delta \\mu \\theta - I \\beta \\chi \\gamma \\mu \\theta - I \\beta \\chi \\delta \\rho \\theta + I \\alpha \\beta \\mu \\rho \\theta + I \\beta \\delta \\gamma \\mu + I \\beta \\delta \\mu \\rho + I \\beta \\delta \\gamma \\theta + I \\beta \\delta \\mu \\theta - S \\beta \\delta \\mu \\theta + I \\beta \\gamma \\mu \\theta + I \\beta \\delta \\rho \\theta + \\delta \\gamma \\mu \\theta + \\delta \\mu \\rho \\theta\\right) x + I \\alpha \\beta \\chi \\delta \\gamma \\mu \\theta - I \\alpha \\beta \\delta \\gamma \\mu \\theta - I \\beta \\chi \\delta \\gamma \\mu \\theta + I \\beta \\delta \\gamma \\mu \\theta</script></html>"
      ],
      "text/plain": [
       "x^5 + (-I*beta*chi + I*beta + delta + gamma + mu + rho + theta)*x^4 + (-S*alpha*beta*chi*theta - I*beta*chi*delta - I*beta*chi*gamma - I*beta*chi*mu - I*beta*chi*rho + S*alpha*beta*theta - I*beta*chi*theta + S*beta*chi*theta + I*beta*delta + I*beta*gamma + I*beta*mu + I*beta*rho + I*beta*theta - S*beta*theta + delta*gamma + delta*mu + gamma*mu + delta*rho + mu*rho + delta*theta + gamma*theta + mu*theta + rho*theta)*x^3 + (-S*alpha*beta*chi*delta*theta - S*alpha*beta*chi*mu*theta - I*beta*chi*delta*gamma - I*beta*chi*delta*mu - I*beta*chi*gamma*mu - I*beta*chi*delta*rho - I*beta*chi*mu*rho + S*alpha*beta*delta*theta - I*beta*chi*delta*theta + S*beta*chi*delta*theta - I*beta*chi*gamma*theta + S*alpha*beta*mu*theta - I*beta*chi*mu*theta + S*beta*chi*mu*theta - I*beta*chi*rho*theta + I*beta*delta*gamma + I*beta*delta*mu + I*beta*gamma*mu + I*beta*delta*rho + I*beta*mu*rho + I*beta*delta*theta - S*beta*delta*theta + I*beta*gamma*theta + I*beta*mu*theta - S*beta*mu*theta + I*beta*rho*theta + delta*gamma*mu + delta*mu*rho + delta*gamma*theta + delta*mu*theta + gamma*mu*theta + delta*rho*theta + mu*rho*theta)*x^2 + (I*alpha*beta*chi*delta*mu*theta - S*alpha*beta*chi*delta*mu*theta - I*alpha*beta*chi*mu*rho*theta - I*beta*chi*delta*gamma*mu - I*beta*chi*delta*mu*rho - I*beta*chi*delta*gamma*theta - I*alpha*beta*delta*mu*theta + S*alpha*beta*delta*mu*theta - I*beta*chi*delta*mu*theta + S*beta*chi*delta*mu*theta - I*beta*chi*gamma*mu*theta - I*beta*chi*delta*rho*theta + I*alpha*beta*mu*rho*theta + I*beta*delta*gamma*mu + I*beta*delta*mu*rho + I*beta*delta*gamma*theta + I*beta*delta*mu*theta - S*beta*delta*mu*theta + I*beta*gamma*mu*theta + I*beta*delta*rho*theta + delta*gamma*mu*theta + delta*mu*rho*theta)*x + I*alpha*beta*chi*delta*gamma*mu*theta - I*alpha*beta*delta*gamma*mu*theta - I*beta*chi*delta*gamma*mu*theta + I*beta*delta*gamma*mu*theta"
      ]
     },
     "execution_count": 70,
     "metadata": {},
     "output_type": "execute_result"
    }
   ],
   "source": [
    "cp = jack.characteristic_polynomial()\n",
    "cp"
   ]
  },
  {
   "cell_type": "markdown",
   "metadata": {},
   "source": [
    "# Cálculo do R0"
   ]
  },
  {
   "cell_type": "raw",
   "metadata": {},
   "source": [
    " O método que iremos utilizar foi proposto por P. van Driessche no seguinte artigo:\n",
    " https://www.semanticscholar.org/paper/Reproduction-numbers-and-sub-threshold-endemic-for-Driessche-Watmough/1d30caae87de22a1c5547a702ed3290a6a878271?p2df\n"
   ]
  },
  {
   "cell_type": "code",
   "execution_count": 72,
   "metadata": {},
   "outputs": [
    {
     "data": {
      "text/html": [
       "<html><script type=\"math/tex; mode=display\">\\newcommand{\\Bold}[1]{\\mathbf{#1}}\\left(\\begin{array}{r}\n",
       "I S \\beta {\\left(\\chi - 1\\right)} + R \\mu \\\\\n",
       "0 \\\\\n",
       "0\n",
       "\\end{array}\\right)</script></html>"
      ],
      "text/plain": [
       "[I*S*beta*(chi - 1) + R*mu]\n",
       "[                        0]\n",
       "[                        0]"
      ]
     },
     "execution_count": 72,
     "metadata": {},
     "output_type": "execute_result"
    }
   ],
   "source": [
    "F_cal = matrix([[-beta*(1-chi)*S*I + mu*R],[0],[0]])\n",
    "F_cal"
   ]
  },
  {
   "cell_type": "code",
   "execution_count": 73,
   "metadata": {},
   "outputs": [
    {
     "data": {
      "text/html": [
       "<html><script type=\"math/tex; mode=display\">\\newcommand{\\Bold}[1]{\\mathbf{#1}}\\left(\\begin{array}{r}\n",
       "E \\theta \\\\\n",
       "I \\rho \\\\\n",
       "A \\delta\n",
       "\\end{array}\\right)</script></html>"
      ],
      "text/plain": [
       "[E*theta]\n",
       "[  I*rho]\n",
       "[A*delta]"
      ]
     },
     "execution_count": 73,
     "metadata": {},
     "output_type": "execute_result"
    }
   ],
   "source": [
    "V_cal_neg = matrix([[theta*E],[rho*I],[delta*A]])\n",
    "V_cal_neg"
   ]
  },
  {
   "cell_type": "code",
   "execution_count": 74,
   "metadata": {},
   "outputs": [
    {
     "data": {
      "text/html": [
       "<html><script type=\"math/tex; mode=display\">\\newcommand{\\Bold}[1]{\\mathbf{#1}}\\left(\\begin{array}{r}\n",
       "0 \\\\\n",
       "-E {\\left(\\alpha - 1\\right)} \\theta \\\\\n",
       "E \\alpha \\theta\n",
       "\\end{array}\\right)</script></html>"
      ],
      "text/plain": [
       "[                   0]\n",
       "[-E*(alpha - 1)*theta]\n",
       "[       E*alpha*theta]"
      ]
     },
     "execution_count": 74,
     "metadata": {},
     "output_type": "execute_result"
    }
   ],
   "source": [
    "V_cal_pos = matrix([[0],[(1-alpha)*theta*E],[alpha*theta*E]])\n",
    "V_cal_pos"
   ]
  },
  {
   "cell_type": "code",
   "execution_count": 75,
   "metadata": {},
   "outputs": [
    {
     "data": {
      "text/html": [
       "<html><script type=\"math/tex; mode=display\">\\newcommand{\\Bold}[1]{\\mathbf{#1}}\\left(\\begin{array}{r}\n",
       "E \\theta \\\\\n",
       "E {\\left(\\alpha - 1\\right)} \\theta + I \\rho \\\\\n",
       "-E \\alpha \\theta + A \\delta\n",
       "\\end{array}\\right)</script></html>"
      ],
      "text/plain": [
       "[                    E*theta]\n",
       "[E*(alpha - 1)*theta + I*rho]\n",
       "[   -E*alpha*theta + A*delta]"
      ]
     },
     "execution_count": 75,
     "metadata": {},
     "output_type": "execute_result"
    }
   ],
   "source": [
    "V_cal = V_cal_neg-V_cal_pos\n",
    "V_cal"
   ]
  },
  {
   "cell_type": "markdown",
   "metadata": {},
   "source": [
    "definimos blabla bla bla"
   ]
  },
  {
   "cell_type": "code",
   "execution_count": 77,
   "metadata": {},
   "outputs": [
    {
     "data": {
      "text/html": [
       "<html><script type=\"math/tex; mode=display\">\\newcommand{\\Bold}[1]{\\mathbf{#1}}\\left(\\begin{array}{rrr}\n",
       "0 & \\beta {\\left(\\chi - 1\\right)} & 0 \\\\\n",
       "0 & 0 & 0 \\\\\n",
       "0 & 0 & 0\n",
       "\\end{array}\\right)</script></html>"
      ],
      "text/plain": [
       "[             0 beta*(chi - 1)              0]\n",
       "[             0              0              0]\n",
       "[             0              0              0]"
      ]
     },
     "execution_count": 77,
     "metadata": {},
     "output_type": "execute_result"
    }
   ],
   "source": [
    "F = jacobian(F_cal(S=1),[E,I,A])\n",
    "F"
   ]
  },
  {
   "cell_type": "code",
   "execution_count": 79,
   "metadata": {},
   "outputs": [
    {
     "data": {
      "text/html": [
       "<html><script type=\"math/tex; mode=display\">\\newcommand{\\Bold}[1]{\\mathbf{#1}}\\left(\\begin{array}{rrr}\n",
       "\\theta & 0 & 0 \\\\\n",
       "{\\left(\\alpha - 1\\right)} \\theta & \\rho & 0 \\\\\n",
       "-\\alpha \\theta & 0 & \\delta\n",
       "\\end{array}\\right)</script></html>"
      ],
      "text/plain": [
       "[            theta                 0                 0]\n",
       "[(alpha - 1)*theta               rho                 0]\n",
       "[     -alpha*theta                 0             delta]"
      ]
     },
     "execution_count": 79,
     "metadata": {},
     "output_type": "execute_result"
    }
   ],
   "source": [
    "V = jacobian(V_cal(S=1),[E,I,A])\n",
    "V"
   ]
  },
  {
   "cell_type": "markdown",
   "metadata": {},
   "source": [
    "R0 = ro(FV^-1)"
   ]
  },
  {
   "cell_type": "code",
   "execution_count": 81,
   "metadata": {},
   "outputs": [
    {
     "data": {
      "text/html": [
       "<html><script type=\"math/tex; mode=display\">\\newcommand{\\Bold}[1]{\\mathbf{#1}}\\left(\\begin{array}{rrr}\n",
       "-\\frac{{\\left(\\alpha - 1\\right)} \\beta \\chi - {\\left(\\alpha - 1\\right)} \\beta}{\\rho} & \\frac{\\beta \\chi - \\beta}{\\rho} & 0 \\\\\n",
       "0 & 0 & 0 \\\\\n",
       "0 & 0 & 0\n",
       "\\end{array}\\right)</script></html>"
      ],
      "text/plain": [
       "[-((alpha - 1)*beta*chi - (alpha - 1)*beta)/rho                          (beta*chi - beta)/rho                                              0]\n",
       "[                                             0                                              0                                              0]\n",
       "[                                             0                                              0                                              0]"
      ]
     },
     "execution_count": 81,
     "metadata": {},
     "output_type": "execute_result"
    }
   ],
   "source": [
    "M = F*V.inverse()\n",
    "M=M.simplify_full()\n",
    "M"
   ]
  },
  {
   "cell_type": "code",
   "execution_count": 82,
   "metadata": {},
   "outputs": [
    {
     "data": {
      "text/html": [
       "<html><script type=\"math/tex; mode=display\">\\newcommand{\\Bold}[1]{\\mathbf{#1}}\\left[-\\frac{{\\left(\\alpha - 1\\right)} \\beta \\chi - {\\left(\\alpha - 1\\right)} \\beta}{\\rho}, 0, 0\\right]</script></html>"
      ],
      "text/plain": [
       "[-((alpha - 1)*beta*chi - (alpha - 1)*beta)/rho, 0, 0]"
      ]
     },
     "execution_count": 82,
     "metadata": {},
     "output_type": "execute_result"
    }
   ],
   "source": [
    "M.eigenvalues()"
   ]
  },
  {
   "cell_type": "code",
   "execution_count": 83,
   "metadata": {},
   "outputs": [],
   "source": [
    "R0 = M[0,0].simplify_full()"
   ]
  },
  {
   "cell_type": "code",
   "execution_count": 84,
   "metadata": {},
   "outputs": [
    {
     "data": {
      "text/html": [
       "<html><script type=\"math/tex; mode=display\">\\newcommand{\\Bold}[1]{\\mathbf{#1}}-\\frac{{\\left(\\alpha - 1\\right)} \\beta \\chi - {\\left(\\alpha - 1\\right)} \\beta}{\\rho}</script></html>"
      ],
      "text/plain": [
       "-((alpha - 1)*beta*chi - (alpha - 1)*beta)/rho"
      ]
     },
     "execution_count": 84,
     "metadata": {},
     "output_type": "execute_result"
    }
   ],
   "source": [
    "R0"
   ]
  },
  {
   "cell_type": "code",
   "execution_count": 85,
   "metadata": {},
   "outputs": [
    {
     "data": {
      "text/html": [
       "<html><script type=\"math/tex; mode=display\">\\newcommand{\\Bold}[1]{\\mathbf{#1}}\\left(\\alpha, \\beta, \\chi, \\rho\\right)</script></html>"
      ],
      "text/plain": [
       "(alpha, beta, chi, rho)"
      ]
     },
     "execution_count": 85,
     "metadata": {},
     "output_type": "execute_result"
    }
   ],
   "source": [
    "R0.variables()"
   ]
  },
  {
   "cell_type": "code",
   "execution_count": 86,
   "metadata": {},
   "outputs": [
    {
     "data": {
      "text/html": [
       "<script type=\"math/tex\">R_t=</script>"
      ],
      "text/plain": [
       "<script type=\"math/tex\">R_t=</script>"
      ]
     },
     "metadata": {},
     "output_type": "display_data"
    },
    {
     "data": {
      "text/html": [
       "<html><script type=\"math/tex; mode=display\">\\newcommand{\\Bold}[1]{\\mathbf{#1}}\\mathrm{None}</script></html>"
      ],
      "text/plain": [
       "None"
      ]
     },
     "metadata": {},
     "output_type": "display_data"
    },
    {
     "data": {
      "text/html": [
       "<html><script type=\"math/tex; mode=display\">\\newcommand{\\Bold}[1]{\\mathbf{#1}}-\\frac{S {\\left(\\alpha - 1\\right)} \\beta {\\left(\\chi - 1\\right)}}{\\rho}</script></html>"
      ],
      "text/plain": [
       "-S*(alpha - 1)*beta*(chi - 1)/rho"
      ]
     },
     "execution_count": 86,
     "metadata": {},
     "output_type": "execute_result"
    }
   ],
   "source": [
    "Ft = jacobian(F_cal,[E,I,A])\n",
    "Vt = jacobian(V_cal,[E,I,A])\n",
    "Mt = Ft*Vt.inverse()\n",
    "show(pretty_print(html('$R_t=$')))\n",
    "Rt = Mt[0,0]\n",
    "Rt"
   ]
  },
  {
   "cell_type": "code",
   "execution_count": 87,
   "metadata": {},
   "outputs": [
    {
     "name": "stdout",
     "output_type": "stream",
     "text": [
      "-S*(alpha - 1)*beta*(chi - 1)/rho\n"
     ]
    }
   ],
   "source": [
    "print(Rt)"
   ]
  },
  {
   "cell_type": "code",
   "execution_count": null,
   "metadata": {},
   "outputs": [],
   "source": []
  }
 ],
 "metadata": {
  "kernelspec": {
   "display_name": "SageMath 9.1",
   "language": "sage",
   "name": "sagemath"
  },
  "language_info": {
   "codemirror_mode": {
    "name": "ipython",
    "version": 3
   },
   "file_extension": ".py",
   "mimetype": "text/x-python",
   "name": "python",
   "nbconvert_exporter": "python",
   "pygments_lexer": "ipython3",
   "version": "3.7.3"
  }
 },
 "nbformat": 4,
 "nbformat_minor": 2
}
