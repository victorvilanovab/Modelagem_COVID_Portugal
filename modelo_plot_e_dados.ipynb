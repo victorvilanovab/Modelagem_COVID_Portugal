{
 "cells": [
  {
   "cell_type": "code",
   "execution_count": 4,
   "metadata": {},
   "outputs": [],
   "source": [
    "import pandas as pd\n",
    "import numpy as np\n",
    "%display typeset"
   ]
  },
  {
   "cell_type": "code",
   "execution_count": 2,
   "metadata": {},
   "outputs": [
    {
     "data": {
      "text/html": [
       "<html><script type=\"math/tex; mode=display\">\\newcommand{\\Bold}[1]{\\mathbf{#1}}\\begin{array}{l}\n",
       "\\phantom{\\verb!xxxxxxxxxxx!}\\verb|iso_code|\\phantom{\\verb!x!}\\verb|continent|\\phantom{\\verb!xx!}\\verb|location|\\phantom{\\verb!xx!}\\verb|total_cases|\\phantom{\\verb!xx!}\\verb|new_cases|\\phantom{\\verb!xx!}\\verb|\\}}\\|\\verb|date|\\\\\n",
       "\\verb|2020-09-03|\\phantom{\\verb!xxxxxx!}\\verb|PRT|\\phantom{\\verb!xxxx!}\\verb|Europe|\\phantom{\\verb!xx!}\\verb|Portugal|\\phantom{\\verb!xxxxxx!}\\verb|58633.0|\\phantom{\\verb!xxxxxx!}\\verb|390.0|\\\\\n",
       "\\verb|2020-09-04|\\phantom{\\verb!xxxxxx!}\\verb|PRT|\\phantom{\\verb!xxxx!}\\verb|Europe|\\phantom{\\verb!xx!}\\verb|Portugal|\\phantom{\\verb!xxxxxx!}\\verb|59051.0|\\phantom{\\verb!xxxxxx!}\\verb|418.0|\\\\\n",
       "\\verb|2020-09-05|\\phantom{\\verb!xxxxxx!}\\verb|PRT|\\phantom{\\verb!xxxx!}\\verb|Europe|\\phantom{\\verb!xx!}\\verb|Portugal|\\phantom{\\verb!xxxxxx!}\\verb|59457.0|\\phantom{\\verb!xxxxxx!}\\verb|406.0|\\\\\n",
       "\\verb|2020-09-06|\\phantom{\\verb!xxxxxx!}\\verb|PRT|\\phantom{\\verb!xxxx!}\\verb|Europe|\\phantom{\\verb!xx!}\\verb|Portugal|\\phantom{\\verb!xxxxxx!}\\verb|59943.0|\\phantom{\\verb!xxxxxx!}\\verb|486.0|\\\\\n",
       "\\verb|2020-09-07|\\phantom{\\verb!xxxxxx!}\\verb|PRT|\\phantom{\\verb!xxxx!}\\verb|Europe|\\phantom{\\verb!xx!}\\verb|Portugal|\\phantom{\\verb!xxxxxx!}\\verb|60258.0|\\phantom{\\verb!xxxxxx!}\\verb|315.0|\\\\\n",
       "\\phantom{\\verb!x!}\\\\\n",
       "\\phantom{\\verb!xxxxxxxxxxxx!}\\verb|new_cases_smoothed|\\phantom{\\verb!xx!}\\verb|total_deaths|\\phantom{\\verb!xx!}\\verb|new_deaths|\\phantom{\\verb!xx!}\\verb|new_deaths_smoothed|\\phantom{\\verb!xx!}\\verb|\\}}\\|\\verb|date|\\\\\n",
       "\\verb|2020-09-03|\\phantom{\\verb!xxxxxxxxxxxxx!}\\verb|337.000|\\phantom{\\verb!xxxxxxxx!}\\verb|1827.0|\\phantom{\\verb!xxxxxxxxx!}\\verb|3.0|\\phantom{\\verb!xxxxxxxxxxxxxxxx!}\\verb|2.857|\\\\\n",
       "\\verb|2020-09-04|\\phantom{\\verb!xxxxxxxxxxxxx!}\\verb|339.714|\\phantom{\\verb!xxxxxxxx!}\\verb|1829.0|\\phantom{\\verb!xxxxxxxxx!}\\verb|2.0|\\phantom{\\verb!xxxxxxxxxxxxxxxx!}\\verb|2.857|\\\\\n",
       "\\verb|2020-09-05|\\phantom{\\verb!xxxxxxxxxxxxx!}\\verb|340.429|\\phantom{\\verb!xxxxxxxx!}\\verb|1833.0|\\phantom{\\verb!xxxxxxxxx!}\\verb|4.0|\\phantom{\\verb!xxxxxxxxxxxxxxxx!}\\verb|2.571|\\\\\n",
       "\\verb|2020-09-06|\\phantom{\\verb!xxxxxxxxxxxxx!}\\verb|356.429|\\phantom{\\verb!xxxxxxxx!}\\verb|1838.0|\\phantom{\\verb!xxxxxxxxx!}\\verb|5.0|\\phantom{\\verb!xxxxxxxxxxxxxxxx!}\\verb|2.857|\\\\\n",
       "\\verb|2020-09-07|\\phantom{\\verb!xxxxxxxxxxxxx!}\\verb|355.714|\\phantom{\\verb!xxxxxxxx!}\\verb|1840.0|\\phantom{\\verb!xxxxxxxxx!}\\verb|2.0|\\phantom{\\verb!xxxxxxxxxxxxxxxx!}\\verb|3.000|\\\\\n",
       "\\phantom{\\verb!x!}\\\\\n",
       "\\phantom{\\verb!xxxxxxxxxxxx!}\\verb|total_cases_per_million|\\phantom{\\verb!xx!}\\verb|...|\\phantom{\\verb!xx!}\\verb|aged_70_older|\\phantom{\\verb!xx!}\\verb|gdp_per_capita|\\phantom{\\verb!xx!}\\verb|\\}}\\|\\verb|date|\\phantom{\\verb!xxxxxxxxxxxxxxxxxxxxxxxxxxxxxxxxx!}\\verb|...|\\\\\n",
       "\\verb|2020-09-03|\\phantom{\\verb!xxxxxxxxxxxxxxxxx!}\\verb|5750.190|\\phantom{\\verb!xx!}\\verb|...|\\phantom{\\verb!xxxxxxxxx!}\\verb|14.924|\\phantom{\\verb!xxxxxxx!}\\verb|27936.896|\\\\\n",
       "\\verb|2020-09-04|\\phantom{\\verb!xxxxxxxxxxxxxxxxx!}\\verb|5791.183|\\phantom{\\verb!xx!}\\verb|...|\\phantom{\\verb!xxxxxxxxx!}\\verb|14.924|\\phantom{\\verb!xxxxxxx!}\\verb|27936.896|\\\\\n",
       "\\verb|2020-09-05|\\phantom{\\verb!xxxxxxxxxxxxxxxxx!}\\verb|5831.000|\\phantom{\\verb!xx!}\\verb|...|\\phantom{\\verb!xxxxxxxxx!}\\verb|14.924|\\phantom{\\verb!xxxxxxx!}\\verb|27936.896|\\\\\n",
       "\\verb|2020-09-06|\\phantom{\\verb!xxxxxxxxxxxxxxxxx!}\\verb|5878.663|\\phantom{\\verb!xx!}\\verb|...|\\phantom{\\verb!xxxxxxxxx!}\\verb|14.924|\\phantom{\\verb!xxxxxxx!}\\verb|27936.896|\\\\\n",
       "\\verb|2020-09-07|\\phantom{\\verb!xxxxxxxxxxxxxxxxx!}\\verb|5909.555|\\phantom{\\verb!xx!}\\verb|...|\\phantom{\\verb!xxxxxxxxx!}\\verb|14.924|\\phantom{\\verb!xxxxxxx!}\\verb|27936.896|\\\\\n",
       "\\phantom{\\verb!x!}\\\\\n",
       "\\phantom{\\verb!xxxxxxxxxxxx!}\\verb|extreme_poverty|\\phantom{\\verb!xx!}\\verb|cardiovasc_death_rate|\\phantom{\\verb!xx!}\\verb|diabetes_prevalence|\\phantom{\\verb!xx!}\\verb|\\}}\\|\\verb|date|\\\\\n",
       "\\verb|2020-09-03|\\phantom{\\verb!xxxxxxxxxxxxxx!}\\verb|0.5|\\phantom{\\verb!xxxxxxxxxxxxxxxx!}\\verb|127.842|\\phantom{\\verb!xxxxxxxxxxxxxxxxx!}\\verb|9.85|\\\\\n",
       "\\verb|2020-09-04|\\phantom{\\verb!xxxxxxxxxxxxxx!}\\verb|0.5|\\phantom{\\verb!xxxxxxxxxxxxxxxx!}\\verb|127.842|\\phantom{\\verb!xxxxxxxxxxxxxxxxx!}\\verb|9.85|\\\\\n",
       "\\verb|2020-09-05|\\phantom{\\verb!xxxxxxxxxxxxxx!}\\verb|0.5|\\phantom{\\verb!xxxxxxxxxxxxxxxx!}\\verb|127.842|\\phantom{\\verb!xxxxxxxxxxxxxxxxx!}\\verb|9.85|\\\\\n",
       "\\verb|2020-09-06|\\phantom{\\verb!xxxxxxxxxxxxxx!}\\verb|0.5|\\phantom{\\verb!xxxxxxxxxxxxxxxx!}\\verb|127.842|\\phantom{\\verb!xxxxxxxxxxxxxxxxx!}\\verb|9.85|\\\\\n",
       "\\verb|2020-09-07|\\phantom{\\verb!xxxxxxxxxxxxxx!}\\verb|0.5|\\phantom{\\verb!xxxxxxxxxxxxxxxx!}\\verb|127.842|\\phantom{\\verb!xxxxxxxxxxxxxxxxx!}\\verb|9.85|\\\\\n",
       "\\phantom{\\verb!x!}\\\\\n",
       "\\phantom{\\verb!xxxxxxxxxxxx!}\\verb|female_smokers|\\phantom{\\verb!xx!}\\verb|male_smokers|\\phantom{\\verb!xx!}\\verb|handwashing_facilities|\\phantom{\\verb!xx!}\\verb|\\}}\\|\\verb|date|\\\\\n",
       "\\verb|2020-09-03|\\phantom{\\verb!xxxxxxxxxxxx!}\\verb|16.3|\\phantom{\\verb!xxxxxxxxxx!}\\verb|30.0|\\phantom{\\verb!xxxxxxxxxxxxxxxxxxxxx!}\\verb|NaN|\\\\\n",
       "\\verb|2020-09-04|\\phantom{\\verb!xxxxxxxxxxxx!}\\verb|16.3|\\phantom{\\verb!xxxxxxxxxx!}\\verb|30.0|\\phantom{\\verb!xxxxxxxxxxxxxxxxxxxxx!}\\verb|NaN|\\\\\n",
       "\\verb|2020-09-05|\\phantom{\\verb!xxxxxxxxxxxx!}\\verb|16.3|\\phantom{\\verb!xxxxxxxxxx!}\\verb|30.0|\\phantom{\\verb!xxxxxxxxxxxxxxxxxxxxx!}\\verb|NaN|\\\\\n",
       "\\verb|2020-09-06|\\phantom{\\verb!xxxxxxxxxxxx!}\\verb|16.3|\\phantom{\\verb!xxxxxxxxxx!}\\verb|30.0|\\phantom{\\verb!xxxxxxxxxxxxxxxxxxxxx!}\\verb|NaN|\\\\\n",
       "\\verb|2020-09-07|\\phantom{\\verb!xxxxxxxxxxxx!}\\verb|16.3|\\phantom{\\verb!xxxxxxxxxx!}\\verb|30.0|\\phantom{\\verb!xxxxxxxxxxxxxxxxxxxxx!}\\verb|NaN|\\\\\n",
       "\\phantom{\\verb!x!}\\\\\n",
       "\\phantom{\\verb!xxxxxxxxxxxx!}\\verb|hospital_beds_per_thousand|\\phantom{\\verb!xx!}\\verb|life_expectancy|\\\\\n",
       "\\verb|date|\\\\\n",
       "\\verb|2020-09-03|\\phantom{\\verb!xxxxxxxxxxxxxxxxxxxxxxxx!}\\verb|3.39|\\phantom{\\verb!xxxxxxxxxxxx!}\\verb|82.05|\\\\\n",
       "\\verb|2020-09-04|\\phantom{\\verb!xxxxxxxxxxxxxxxxxxxxxxxx!}\\verb|3.39|\\phantom{\\verb!xxxxxxxxxxxx!}\\verb|82.05|\\\\\n",
       "\\verb|2020-09-05|\\phantom{\\verb!xxxxxxxxxxxxxxxxxxxxxxxx!}\\verb|3.39|\\phantom{\\verb!xxxxxxxxxxxx!}\\verb|82.05|\\\\\n",
       "\\verb|2020-09-06|\\phantom{\\verb!xxxxxxxxxxxxxxxxxxxxxxxx!}\\verb|3.39|\\phantom{\\verb!xxxxxxxxxxxx!}\\verb|82.05|\\\\\n",
       "\\verb|2020-09-07|\\phantom{\\verb!xxxxxxxxxxxxxxxxxxxxxxxx!}\\verb|3.39|\\phantom{\\verb!xxxxxxxxxxxx!}\\verb|82.05|\\\\\n",
       "\\phantom{\\verb!x!}\\\\\n",
       "\\verb|[5|\\phantom{\\verb!x!}\\verb|rows|\\phantom{\\verb!x!}\\verb|x|\\phantom{\\verb!x!}\\verb|39|\\phantom{\\verb!x!}\\verb|columns]|\n",
       "\\end{array}</script></html>"
      ],
      "text/plain": [
       "           iso_code continent  location  total_cases  new_cases  \\\n",
       "date                                                              \n",
       "2020-09-03      PRT    Europe  Portugal      58633.0      390.0   \n",
       "2020-09-04      PRT    Europe  Portugal      59051.0      418.0   \n",
       "2020-09-05      PRT    Europe  Portugal      59457.0      406.0   \n",
       "2020-09-06      PRT    Europe  Portugal      59943.0      486.0   \n",
       "2020-09-07      PRT    Europe  Portugal      60258.0      315.0   \n",
       "\n",
       "            new_cases_smoothed  total_deaths  new_deaths  new_deaths_smoothed  \\\n",
       "date                                                                            \n",
       "2020-09-03             337.000        1827.0         3.0                2.857   \n",
       "2020-09-04             339.714        1829.0         2.0                2.857   \n",
       "2020-09-05             340.429        1833.0         4.0                2.571   \n",
       "2020-09-06             356.429        1838.0         5.0                2.857   \n",
       "2020-09-07             355.714        1840.0         2.0                3.000   \n",
       "\n",
       "            total_cases_per_million  ...  aged_70_older  gdp_per_capita  \\\n",
       "date                                 ...                                  \n",
       "2020-09-03                 5750.190  ...         14.924       27936.896   \n",
       "2020-09-04                 5791.183  ...         14.924       27936.896   \n",
       "2020-09-05                 5831.000  ...         14.924       27936.896   \n",
       "2020-09-06                 5878.663  ...         14.924       27936.896   \n",
       "2020-09-07                 5909.555  ...         14.924       27936.896   \n",
       "\n",
       "            extreme_poverty  cardiovasc_death_rate  diabetes_prevalence  \\\n",
       "date                                                                      \n",
       "2020-09-03              0.5                127.842                 9.85   \n",
       "2020-09-04              0.5                127.842                 9.85   \n",
       "2020-09-05              0.5                127.842                 9.85   \n",
       "2020-09-06              0.5                127.842                 9.85   \n",
       "2020-09-07              0.5                127.842                 9.85   \n",
       "\n",
       "            female_smokers  male_smokers  handwashing_facilities  \\\n",
       "date                                                               \n",
       "2020-09-03            16.3          30.0                     NaN   \n",
       "2020-09-04            16.3          30.0                     NaN   \n",
       "2020-09-05            16.3          30.0                     NaN   \n",
       "2020-09-06            16.3          30.0                     NaN   \n",
       "2020-09-07            16.3          30.0                     NaN   \n",
       "\n",
       "            hospital_beds_per_thousand  life_expectancy  \n",
       "date                                                     \n",
       "2020-09-03                        3.39            82.05  \n",
       "2020-09-04                        3.39            82.05  \n",
       "2020-09-05                        3.39            82.05  \n",
       "2020-09-06                        3.39            82.05  \n",
       "2020-09-07                        3.39            82.05  \n",
       "\n",
       "[5 rows x 39 columns]"
      ]
     },
     "execution_count": 2,
     "metadata": {},
     "output_type": "execute_result"
    }
   ],
   "source": [
    "all_data = pd.read_csv(r'C:\\Users\\VictorVilanova\\Downloads\\owid-covid-data.csv',index_col = \"date\")\n",
    "only_pt = all_data[\"location\"] == \"Portugal\"\n",
    "df = all_data[only_pt]\n",
    "df.tail()"
   ]
  },
  {
   "cell_type": "markdown",
   "metadata": {},
   "source": [
    "# Plotando a curva de casos totais acumulados"
   ]
  },
  {
   "cell_type": "code",
   "execution_count": 3,
   "metadata": {
    "scrolled": false
   },
   "outputs": [
    {
     "data": {
      "text/html": [
       "<html><script type=\"math/tex; mode=display\">\\newcommand{\\Bold}[1]{\\mathbf{#1}}\\verb|AxesSubplot(0.125,0.11;0.775x0.77)|</script></html>"
      ],
      "text/plain": [
       "<matplotlib.axes._subplots.AxesSubplot object at 0x6fd49711160>"
      ]
     },
     "execution_count": 3,
     "metadata": {},
     "output_type": "execute_result"
    }
   ],
   "source": [
    "fig = df[\"total_cases\"].plot(figsize = (10,10))\n",
    "fig"
   ]
  },
  {
   "cell_type": "markdown",
   "metadata": {},
   "source": [
    "# Plotando a curva de casos diários"
   ]
  },
  {
   "cell_type": "code",
   "execution_count": 4,
   "metadata": {
    "scrolled": false
   },
   "outputs": [
    {
     "data": {
      "text/html": [
       "<html><script type=\"math/tex; mode=display\">\\newcommand{\\Bold}[1]{\\mathbf{#1}}\\verb|AxesSubplot(0.125,0.125;0.775x0.755)|</script></html>"
      ],
      "text/plain": [
       "<matplotlib.axes._subplots.AxesSubplot object at 0x6fd471da7f0>"
      ]
     },
     "execution_count": 4,
     "metadata": {},
     "output_type": "execute_result"
    },
    {
     "data": {
      "image/png": "[encoded data removed]",
      "text/plain": [
       "<Figure size 720x720 with 1 Axes>"
      ]
     },
     "metadata": {},
     "output_type": "display_data"
    }
   ],
   "source": [
    "fig2 = df[\"new_cases_smoothed\"].plot(figsize=(10,10))\n",
    "fig2"
   ]
  },
  {
   "cell_type": "code",
   "execution_count": 5,
   "metadata": {},
   "outputs": [],
   "source": [
    "#legenda:\n",
    "# 1/ro -> periodo de incubação\n",
    "# 1/lambd -> tempo entre o sintoma e a hospitalização\n",
    "# 1/k -> é o tempo do periodo infectuoso/recovery\n",
    "# 1/delta -> é o tempo da hospitalização/morte\n",
    "# gama -> taxa ded surto clínico\n",
    "# l -> taxa de medidas de proteção pessoal da população\n",
    "# d -> taxa de medidas de contenção tomadas pelo governo\n",
    "# estamos usando que 13% dos casos precisam ser hospitalizados\n",
    "# unidade de tempo é 1 dia.\n",
    "\n",
    "def model(t,y,params):\n",
    "    S, Q, E, I, M = y\n",
    "    ro, beta, gama, alfa, chi, N = params\n",
    "    return [\n",
    "        -beta*(1-chi)*S*I + ro*I, #dS/dt\n",
    "        chi*S, #dS/dt\n",
    "        beta*(1-chi)*S*I-(alfa)*E, #dE/dt\n",
    "        alfa*E-ro*I-gama*I, #dI/dt\n",
    "        gama*I #dM/dt\n",
    "    ]"
   ]
  },
  {
   "cell_type": "code",
   "execution_count": 6,
   "metadata": {},
   "outputs": [
    {
     "data": {
      "text/html": [
       "<html><script type=\"math/tex; mode=display\">\\newcommand{\\Bold}[1]{\\mathbf{#1}}\\left[4010, 250, -4080, 40, 30\\right]</script></html>"
      ],
      "text/plain": [
       "[4010, 250, -4080, 40, 30]"
      ]
     },
     "execution_count": 6,
     "metadata": {},
     "output_type": "execute_result"
    }
   ],
   "source": [
    "model(0,[50,0,20,10,0],[1,2,3,4,5,6])"
   ]
  },
  {
   "cell_type": "code",
   "execution_count": 7,
   "metadata": {},
   "outputs": [],
   "source": [
    "ro = 0.2190519831830368\n",
    "beta = 0.27272459855759813\n",
    "gama = 0.07\n",
    "chi = 0.03\n",
    "alfa=0.08\n",
    "N = 10"
   ]
  },
  {
   "cell_type": "code",
   "execution_count": 8,
   "metadata": {},
   "outputs": [],
   "source": [
    "T = ode_solver()\n",
    "T.function = model\n",
    "T.algorithm = \"rk8pd\"\n",
    "inits = [.99,0,0,1e-4,0]\n",
    "tspan = [0,200]\n",
    "T.ode_solve(tspan, inits, num_points=200, params = [ro, beta, gama, alfa, chi, N])"
   ]
  },
  {
   "cell_type": "code",
   "execution_count": 9,
   "metadata": {},
   "outputs": [
    {
     "data": {
      "text/html": [
       "<html><script type=\"math/tex; mode=display\">\\newcommand{\\Bold}[1]{\\mathbf{#1}}\\begin{array}{l}\n",
       "\\verb|[[9.90000000e-01|\\phantom{\\verb!x!}\\verb|0.00000000e+00|\\phantom{\\verb!x!}\\verb|0.00000000e+00|\\phantom{\\verb!x!}\\verb|1.00000000e-04|\\\\\n",
       "\\phantom{\\verb!xx!}\\verb|0.00000000e+00]|\\\\\n",
       "\\phantom{\\verb!x!}\\verb|[9.89996266e-01|\\phantom{\\verb!x!}\\verb|2.96999414e-02|\\phantom{\\verb!x!}\\verb|2.18925682e-05|\\phantom{\\verb!x!}\\verb|7.57410909e-05|\\\\\n",
       "\\phantom{\\verb!xx!}\\verb|6.09992977e-06]|\\\\\n",
       "\\phantom{\\verb!x!}\\verb|[9.89993405e-01|\\phantom{\\verb!x!}\\verb|5.93997847e-02|\\phantom{\\verb!x!}\\verb|3.69890401e-05|\\phantom{\\verb!x!}\\verb|5.88311664e-05|\\\\\n",
       "\\phantom{\\verb!xx!}\\verb|1.07744792e-05]|\\\\\n",
       "\\phantom{\\verb!x!}\\verb|...|\\\\\n",
       "\\phantom{\\verb!x!}\\verb|[9.89887674e-01|\\phantom{\\verb!x!}\\verb|5.88018029e+00|\\phantom{\\verb!x!}\\verb|2.24122580e-05|\\phantom{\\verb!x!}\\verb|6.33423228e-06|\\\\\n",
       "\\phantom{\\verb!xx!}\\verb|1.83579460e-04]|\\\\\n",
       "\\phantom{\\verb!x!}\\verb|[9.89887404e-01|\\phantom{\\verb!x!}\\verb|5.90987692e+00|\\phantom{\\verb!x!}\\verb|2.22784094e-05|\\phantom{\\verb!x!}\\verb|6.29640387e-06|\\\\\n",
       "\\phantom{\\verb!xx!}\\verb|1.84021530e-04]|\\\\\n",
       "\\phantom{\\verb!x!}\\verb|[9.89887135e-01|\\phantom{\\verb!x!}\\verb|5.93957354e+00|\\phantom{\\verb!x!}\\verb|2.21453598e-05|\\phantom{\\verb!x!}\\verb|6.25880128e-06|\\\\\n",
       "\\phantom{\\verb!xx!}\\verb|1.84460961e-04]]|\n",
       "\\end{array}</script></html>"
      ],
      "text/plain": [
       "array([[9.90000000e-01, 0.00000000e+00, 0.00000000e+00, 1.00000000e-04,\n",
       "        0.00000000e+00],\n",
       "       [9.89996266e-01, 2.96999414e-02, 2.18925682e-05, 7.57410909e-05,\n",
       "        6.09992977e-06],\n",
       "       [9.89993405e-01, 5.93997847e-02, 3.69890401e-05, 5.88311664e-05,\n",
       "        1.07744792e-05],\n",
       "       ...,\n",
       "       [9.89887674e-01, 5.88018029e+00, 2.24122580e-05, 6.33423228e-06,\n",
       "        1.83579460e-04],\n",
       "       [9.89887404e-01, 5.90987692e+00, 2.22784094e-05, 6.29640387e-06,\n",
       "        1.84021530e-04],\n",
       "       [9.89887135e-01, 5.93957354e+00, 2.21453598e-05, 6.25880128e-06,\n",
       "        1.84460961e-04]])"
      ]
     },
     "execution_count": 9,
     "metadata": {},
     "output_type": "execute_result"
    }
   ],
   "source": [
    "def get_sim_array(sol):\n",
    "    sim = np.array([y for t,y in sol])\n",
    "    return sim\n",
    "get_sim_array(T.solution)"
   ]
  },
  {
   "cell_type": "code",
   "execution_count": 10,
   "metadata": {},
   "outputs": [
    {
     "data": {
      "image/png": "[encoded data removed]",
      "text/plain": [
       "Graphics object consisting of 5 graphics primitives"
      ]
     },
     "metadata": {},
     "output_type": "display_data"
    }
   ],
   "source": [
    "popRJ = 6.32e6\n",
    "def plot_sol(sol):\n",
    "    sim = get_sim_array(sol)*popRJ\n",
    "    P = list_plot(sim[:,0],legend_label='S')\n",
    "    colors = ['blue','red','pink','green','yellow','orange','black','purple']\n",
    "    for i,var in enumerate(['Q', 'E', 'I', 'M']):\n",
    "        P += list_plot(sim[:,i+1],color=colors[i+1],legend_label=var)\n",
    "   \n",
    "    show(P)\n",
    "plot_sol(T.solution)"
   ]
  },
  {
   "cell_type": "code",
   "execution_count": 7,
   "metadata": {},
   "outputs": [
    {
     "data": {
      "application/vnd.jupyter.widget-view+json": {
       "model_id": "51fe48965e6248e790b639070df22bf6",
       "version_major": 2,
       "version_minor": 0
      },
      "text/plain": [
       "Interactive function <function plot_solution at 0x6fd474a8f28> with 8 widgets\n",
       "  ro: FloatSlider(value=0.17, de…"
      ]
     },
     "metadata": {},
     "output_type": "display_data"
    }
   ],
   "source": [
    "@interact(ro=(0,1,0.01),\n",
    "beta =(0,1,0.01),\n",
    "gama =(0,1,0.01),\n",
    "chi =(0,1,0.01),\n",
    "alfa=(0,1,0.01),\n",
    "teta=(0,1,0.01),\n",
    "delta=(0,1,0.01),\n",
    "N=(10,150))\n",
    "def plot_solution(ro=0.17,\n",
    "beta =0.62,\n",
    "gama =0.08,\n",
    "chi =0.15,\n",
    "alfa=0.33,\n",
    "teta=0.13,\n",
    "delta=0.51,\n",
    "N=20):\n",
    "    def model(t,y,params):\n",
    "        S, E, I, M, R = y\n",
    "        ro, beta, gama, alfa, chi, N = params\n",
    "        return [\n",
    "            -beta*(1-chi)*S*I, #ro*I,# ( reinfecção) dS/dt\n",
    "            #chi*S, #dQ/dt Quarentenados acumulados\n",
    "            beta*(1-chi)*S*I-(alfa)*E, #-(teta)*E, #dE/dt\n",
    "            alfa*E-gama*I, # - ro*I (reinfecção)dI/dt\n",
    "            gama*I, #dM/dt Mortes acumuladas\n",
    "            ro*I # dR/dt Recuperados acumulados\n",
    "        ]\n",
    "    T = ode_solver()\n",
    "    T.function = model\n",
    "    T.algorithm = \"rk8pd\"\n",
    "    inits = [.99,0,1e-4,0,0]\n",
    "    tspan = [0,200]\n",
    "    T.ode_solve(tspan, inits, num_points=200, params = [ro, beta, gama, alfa, chi, N])\n",
    "    def get_sim_array(sol):\n",
    "        sim = np.array([y for t,y in sol])\n",
    "        return sim\n",
    "    popPT = 6.32e6\n",
    "    def plot_sol(sol):\n",
    "        sim = get_sim_array(sol)*popPT\n",
    "        P = list_plot(sim[:,0],legend_label='S')\n",
    "        colors = ['blue','red','green','black','orange']\n",
    "        for i,var in enumerate(['E', 'I', 'M','R']):\n",
    "            P += list_plot(sim[:,i+1],color=colors[i+1],legend_label=var)\n",
    "   \n",
    "        show(P)\n",
    "    plot_sol(T.solution)"
   ]
  },
  {
   "cell_type": "code",
   "execution_count": null,
   "metadata": {},
   "outputs": [],
   "source": []
  }
 ],
 "metadata": {
  "kernelspec": {
   "display_name": "SageMath 9.1",
   "language": "sage",
   "name": "sagemath"
  },
  "language_info": {
   "codemirror_mode": {
    "name": "ipython",
    "version": 3
   },
   "file_extension": ".py",
   "mimetype": "text/x-python",
   "name": "python",
   "nbconvert_exporter": "python",
   "pygments_lexer": "ipython3",
   "version": "3.7.3"
  }
 },
 "nbformat": 4,
 "nbformat_minor": 2
}
