{
 "cells": [
  {
   "cell_type": "code",
   "execution_count": 3,
   "metadata": {},
   "outputs": [],
   "source": [
    "import pandas as pd\n",
    "import numpy as np\n",
    "%display typeset"
   ]
  },
  {
   "cell_type": "code",
   "execution_count": 14,
   "metadata": {},
   "outputs": [
    {
     "data": {
      "application/vnd.jupyter.widget-view+json": {
       "model_id": "90c98217bb83407e9b8e3409ae14984b",
       "version_major": 2,
       "version_minor": 0
      },
      "text/plain": [
       "Interactive function <function plot_solution at 0x6fd5ae78c80> with 9 widgets\n",
       "  rho: FloatSlider(value=0.19, d…"
      ]
     },
     "metadata": {},
     "output_type": "display_data"
    }
   ],
   "source": [
    "@interact(rho=(0,1,0.01),\n",
    "beta =(0,1,0.01),\n",
    "gamma =(0,1,0.01),\n",
    "chi =(0,1,0.01),\n",
    "alpha=(0,1,0.01),\n",
    "theta=(0,1,0.01),\n",
    "delta=(0,1,0.01),\n",
    "mu=(0,1,0.01))\n",
    "def plot_solution(rho=0.19,\n",
    "beta =0.87,\n",
    "gamma =0.04,\n",
    "chi =0.10,\n",
    "alpha=0.25,\n",
    "theta=0.70,\n",
    "delta=0.38,\n",
    "mu=0.83,\n",
    "N=10.28e6):\n",
    "    def model(t,y,params):\n",
    "        S, E, I, A, M,R = y\n",
    "        rho, beta, gamma, alpha, chi, alfa, theta, mu, N = params\n",
    "        return [\n",
    "            -beta*(1-chi)*S*I + mu*R,#  dS/dt\n",
    "            #chi*S, #dQ/dt Quarentenados acumulados\n",
    "            beta*(1-chi)*S*I - (theta)*E, #dE/dt\n",
    "            (1-alpha)*theta*E - gamma*I - rho*I,# dI/dt\n",
    "            alpha*theta*E - delta*A, #dA/dt\n",
    "            gamma*I, #dM/dt Mortes acumuladas\n",
    "            rho*I + delta*A - mu*R #dR/dt\n",
    "        ]\n",
    "    T = ode_solver()\n",
    "    T.function = model\n",
    "    T.algorithm = \"rk8pd\"\n",
    "    inits = [.99,0,1e-4,0,0,0]\n",
    "    tspan = [0,200]\n",
    "    T.ode_solve(tspan, inits, num_points=200, params = [rho, beta, gamma, chi,alpha,theta,delta,mu, N])\n",
    "    def get_sim_array(sol):\n",
    "        sim = np.array([y for t,y in sol])\n",
    "        return sim\n",
    "    popPT = N\n",
    "    def plot_sol(sol):\n",
    "        sim = get_sim_array(sol)*popPT\n",
    "        P = list_plot(sim[:,0],legend_label='S')\n",
    "        colors = ['blue','red','green','black','orange','yellow']\n",
    "        for i,var in enumerate(['E','I','A', 'M','R']):\n",
    "            P += list_plot(sim[:,i+1],color=colors[i+1],legend_label=var)\n",
    "   \n",
    "        show(P)\n",
    "    plot_sol(T.solution)"
   ]
  },
  {
   "cell_type": "code",
   "execution_count": null,
   "metadata": {},
   "outputs": [],
   "source": []
  }
 ],
 "metadata": {
  "kernelspec": {
   "display_name": "SageMath 9.1",
   "language": "sage",
   "name": "sagemath"
  },
  "language_info": {
   "codemirror_mode": {
    "name": "ipython",
    "version": 3
   },
   "file_extension": ".py",
   "mimetype": "text/x-python",
   "name": "python",
   "nbconvert_exporter": "python",
   "pygments_lexer": "ipython3",
   "version": "3.7.3"
  }
 },
 "nbformat": 4,
 "nbformat_minor": 2
}
